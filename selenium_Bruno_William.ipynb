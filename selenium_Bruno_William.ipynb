{
  "cells": [
    {
      "cell_type": "code",
      "source": [
        "!pip freeze\n",
        "\n",
        "#!pip uninstall urllib3\n"
      ],
      "metadata": {
        "id": "i5PJb4m55IDu"
      },
      "id": "i5PJb4m55IDu",
      "execution_count": null,
      "outputs": []
    },
    {
      "cell_type": "code",
      "execution_count": null,
      "metadata": {
        "id": "TEW1RFR0Vi2e"
      },
      "outputs": [],
      "source": [
        "#!pip uninstall urllib3\n",
        "\n",
        "!pip install selenium\n",
        "\n",
        "!pip install webdriver-manager"
      ],
      "id": "TEW1RFR0Vi2e"
    },
    {
      "cell_type": "code",
      "execution_count": null,
      "metadata": {
        "id": "e91ac3d1"
      },
      "outputs": [],
      "source": [
        "from selenium import webdriver\n",
        "from selenium.webdriver.chrome.service import Service\n",
        "from webdriver_manager.chrome import ChromeDriverManager\n",
        "from selenium.webdriver.support.ui import WebDriverWait\n",
        "from selenium.webdriver.common.by import By\n",
        "\n",
        "import time"
      ],
      "id": "e91ac3d1"
    },
    {
      "cell_type": "code",
      "execution_count": null,
      "metadata": {
        "id": "ce34ccdb"
      },
      "outputs": [],
      "source": [
        "options = webdriver.ChromeOptions()\n",
        "options.add_argument('headless')\n",
        "options.add_argument('window-size=1920x1080')\n"
      ],
      "id": "ce34ccdb"
    },
    {
      "cell_type": "code",
      "execution_count": null,
      "metadata": {
        "id": "ef08e60b"
      },
      "outputs": [],
      "source": [
        "driver = webdriver.Chrome(service=Service(ChromeDriverManager().install()))"
      ],
      "id": "ef08e60b"
    },
    {
      "cell_type": "code",
      "source": [
        "#função retornar elemento\n",
        "\n",
        "def find(driver):\n",
        "    element = driver.find_element(By.TAG_NAME, 'content')\n",
        "    if element:\n",
        "        return element\n",
        "    else:\n",
        "        return False"
      ],
      "metadata": {
        "id": "QVtIJLftqKC_"
      },
      "id": "QVtIJLftqKC_",
      "execution_count": 2,
      "outputs": []
    },
    {
      "cell_type": "code",
      "source": [
        "#passar busca e filtrar\n",
        "\n",
        "url_1 = 'https://ufrn.br/imprensa/noticias/filtros?text=esporte'\n",
        "driver.get(url_1)\n",
        "time.sleep(5)\n",
        "text_to_cloud = ''\n",
        "\n",
        "numPagC = driver.find_elements(By.XPATH, '//*[@id=\"noticias-paginacao\"]/li[5]/a')[0];\n",
        "numPag = int(numPagC.text) + 1\n",
        "print(numPag)"
      ],
      "metadata": {
        "id": "3nryalB_qZZY"
      },
      "id": "3nryalB_qZZY",
      "execution_count": null,
      "outputs": []
    },
    {
      "cell_type": "code",
      "execution_count": null,
      "metadata": {
        "id": "f12e10fb"
      },
      "outputs": [],
      "source": [
        "for j in range(1,numPag):\n",
        "    print('Pag atual: ', j) \n",
        "    \n",
        "    #obtém lista de notícias (inclui 2 itens que não são notícias)\n",
        "\n",
        "    title_news = driver.find_elements(By.CLASS_NAME, 'blue-link');\n",
        "    n_news = len(title_news)\n",
        "    print('n_news: ', n_news)\n",
        "    \n",
        "    #guarda todos os links de notícia da página atual\n",
        "\n",
        "    title_news_hrefs = []\n",
        "    for i in range(1, n_news):\n",
        "        title_news_hrefs.append(title_news[i].get_attribute('href'))\n",
        "\n",
        "    \n",
        "    for i in range(1, len(title_news_hrefs)):\n",
        "        link = title_news_hrefs[i]     \n",
        "        if 'imprensa' in link:\n",
        "            print(link)\n",
        "            driver.get(link) \n",
        "            time.sleep(5)\n",
        "            news_text = WebDriverWait(driver, 100).until(find)\n",
        "            text_to_cloud += news_text.text\n",
        "            driver.back()\n",
        "            time.sleep(2)\n",
        "        if i == len(title_news_hrefs) - 1:\n",
        "            print('proxima pagina')\n",
        "            try:\n",
        "                driver.find_element(By.XPATH, '//*[@id=\"noticias-paginacao\"]/li[6]/a').click()\n",
        "                time.sleep(5)\n",
        "                mudou = True\n",
        "            except ex.NoSuchElementException:\n",
        "                driver.refresh()\n",
        "                                      \n",
        "print(text_to_cloud)  "
      ],
      "id": "f12e10fb"
    },
    {
      "cell_type": "code",
      "execution_count": null,
      "metadata": {
        "id": "4d534f86"
      },
      "outputs": [],
      "source": [
        "text_to_cloud"
      ],
      "id": "4d534f86"
    },
    {
      "cell_type": "code",
      "source": [
        "!pip install wordcloud"
      ],
      "metadata": {
        "id": "7YAty18MrEQ0"
      },
      "id": "7YAty18MrEQ0",
      "execution_count": null,
      "outputs": []
    },
    {
      "cell_type": "code",
      "source": [
        "from wordcloud import WordCloud, STOPWORDS\n",
        "\n",
        "STOPWORDS = ['ver','principal','essa','vez','nas','mas',\n",
        "             'qual','principal','ele','ter','doença','pois','este',\n",
        "             'vez','ver principal','artigo principal','já',\n",
        "             'aos','pode','outro','artigo','desse',\n",
        "             'alguns','meio','entre','das','podem','esse',\n",
        "             'seu','também','são','quando','de', 'que','em',\n",
        "             'os','as','da','como','dos','ou','se','um','uma',\n",
        "             'para','na','ao','mais','por','não','ainda','muito','sua',\n",
        "             'a', 'é', 'o', 'e', 'no', 'do']"
      ],
      "metadata": {
        "id": "spG3N4AKrMQW"
      },
      "id": "spG3N4AKrMQW",
      "execution_count": null,
      "outputs": []
    },
    {
      "cell_type": "code",
      "source": [
        "import matplotlib.pyplot as plt\n",
        "%matplotlib inline\n",
        "import numpy as np\n",
        "from PIL import Image\n",
        "dataset = open(\"sampleWords.txt\", \"r\").read()\n",
        "def create_word_cloud(string):\n",
        "   maskArray = np.array(Image.open(\"/media/cloud.jpg\")) #uso do numpy\n",
        "   cloud = WordCloud(background_color = \"white\", max_font_size=50, max_words = 200, mask = maskArray, stopwords = set(STOPWORDS))\n",
        "   cloud.generate(string)\n",
        "   cloud.to_file(\"/media/wordCloud.png\")\n",
        "   plt.figure()\n",
        "   plt.imshow(cloud, interpolation='bilinear')\n",
        "   plt.axis('off')\n",
        "dataset = dataset.lower()\n",
        "create_word_cloud(text_to_cloud)\n"
      ],
      "metadata": {
        "id": "mC7RW22arVTQ"
      },
      "id": "mC7RW22arVTQ",
      "execution_count": null,
      "outputs": []
    }
  ],
  "metadata": {
    "colab": {
      "provenance": [],
      "collapsed_sections": []
    },
    "kernelspec": {
      "display_name": "Python 3 (ipykernel)",
      "language": "python",
      "name": "python3"
    },
    "language_info": {
      "codemirror_mode": {
        "name": "ipython",
        "version": 3
      },
      "file_extension": ".py",
      "mimetype": "text/x-python",
      "name": "python",
      "nbconvert_exporter": "python",
      "pygments_lexer": "ipython3",
      "version": "3.9.12"
    }
  },
  "nbformat": 4,
  "nbformat_minor": 5
}
