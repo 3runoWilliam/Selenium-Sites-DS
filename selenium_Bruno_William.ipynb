{
  "cells": [
    {
      "cell_type": "code",
      "source": [
        "!pip freeze\n",
        "\n",
        "#!pip uninstall urllib3\n",
        "\n",
        "#!pip install urllib3"
      ],
      "metadata": {
        "colab": {
          "base_uri": "https://localhost:8080/"
        },
        "id": "i5PJb4m55IDu",
        "outputId": "9742c2e6-be40-4d93-996e-e7e9d13e0bf6"
      },
      "id": "i5PJb4m55IDu",
      "execution_count": 2,
      "outputs": [
        {
          "output_type": "stream",
          "name": "stdout",
          "text": [
            "Found existing installation: urllib3 1.25.11\n",
            "Uninstalling urllib3-1.25.11:\n",
            "  Would remove:\n",
            "    /usr/local/lib/python3.7/dist-packages/urllib3-1.25.11.dist-info/*\n",
            "    /usr/local/lib/python3.7/dist-packages/urllib3/*\n",
            "Proceed (y/n)? y\n",
            "  Successfully uninstalled urllib3-1.25.11\n"
          ]
        }
      ]
    },
    {
      "cell_type": "code",
      "execution_count": 3,
      "metadata": {
        "colab": {
          "base_uri": "https://localhost:8080/"
        },
        "id": "TEW1RFR0Vi2e",
        "outputId": "d7402352-2418-4fed-df88-d63d1f827d2c"
      },
      "outputs": [
        {
          "output_type": "stream",
          "name": "stdout",
          "text": [
            "Looking in indexes: https://pypi.org/simple, https://us-python.pkg.dev/colab-wheels/public/simple/\n",
            "Requirement already satisfied: selenium in /usr/local/lib/python3.7/dist-packages (4.5.0)\n",
            "Requirement already satisfied: trio-websocket~=0.9 in /usr/local/lib/python3.7/dist-packages (from selenium) (0.9.2)\n",
            "Requirement already satisfied: trio~=0.17 in /usr/local/lib/python3.7/dist-packages (from selenium) (0.22.0)\n",
            "Requirement already satisfied: certifi>=2021.10.8 in /usr/local/lib/python3.7/dist-packages (from selenium) (2022.6.15)\n",
            "Collecting urllib3[socks]~=1.26\n",
            "  Using cached urllib3-1.26.12-py2.py3-none-any.whl (140 kB)\n",
            "Requirement already satisfied: sortedcontainers in /usr/local/lib/python3.7/dist-packages (from trio~=0.17->selenium) (2.4.0)\n",
            "Requirement already satisfied: exceptiongroup>=1.0.0rc9 in /usr/local/lib/python3.7/dist-packages (from trio~=0.17->selenium) (1.0.0rc9)\n",
            "Requirement already satisfied: attrs>=19.2.0 in /usr/local/lib/python3.7/dist-packages (from trio~=0.17->selenium) (22.1.0)\n",
            "Requirement already satisfied: sniffio in /usr/local/lib/python3.7/dist-packages (from trio~=0.17->selenium) (1.3.0)\n",
            "Requirement already satisfied: idna in /usr/local/lib/python3.7/dist-packages (from trio~=0.17->selenium) (2.10)\n",
            "Requirement already satisfied: async-generator>=1.9 in /usr/local/lib/python3.7/dist-packages (from trio~=0.17->selenium) (1.10)\n",
            "Requirement already satisfied: outcome in /usr/local/lib/python3.7/dist-packages (from trio~=0.17->selenium) (1.2.0)\n",
            "Requirement already satisfied: wsproto>=0.14 in /usr/local/lib/python3.7/dist-packages (from trio-websocket~=0.9->selenium) (1.2.0)\n",
            "Requirement already satisfied: PySocks!=1.5.7,<2.0,>=1.5.6 in /usr/local/lib/python3.7/dist-packages (from urllib3[socks]~=1.26->selenium) (1.7.1)\n",
            "Requirement already satisfied: h11<1,>=0.9.0 in /usr/local/lib/python3.7/dist-packages (from wsproto>=0.14->trio-websocket~=0.9->selenium) (0.14.0)\n",
            "Requirement already satisfied: typing-extensions in /usr/local/lib/python3.7/dist-packages (from h11<1,>=0.9.0->wsproto>=0.14->trio-websocket~=0.9->selenium) (4.1.1)\n",
            "Installing collected packages: urllib3\n",
            "\u001b[31mERROR: pip's dependency resolver does not currently take into account all the packages that are installed. This behaviour is the source of the following dependency conflicts.\n",
            "requests 2.23.0 requires urllib3!=1.25.0,!=1.25.1,<1.26,>=1.21.1, but you have urllib3 1.26.12 which is incompatible.\u001b[0m\n",
            "Successfully installed urllib3-1.26.12\n",
            "Looking in indexes: https://pypi.org/simple, https://us-python.pkg.dev/colab-wheels/public/simple/\n",
            "Requirement already satisfied: webdriver-manager in /usr/local/lib/python3.7/dist-packages (3.8.3)\n",
            "Requirement already satisfied: python-dotenv in /usr/local/lib/python3.7/dist-packages (from webdriver-manager) (0.21.0)\n",
            "Requirement already satisfied: requests in /usr/local/lib/python3.7/dist-packages (from webdriver-manager) (2.23.0)\n",
            "Requirement already satisfied: tqdm in /usr/local/lib/python3.7/dist-packages (from webdriver-manager) (4.64.1)\n",
            "Requirement already satisfied: chardet<4,>=3.0.2 in /usr/local/lib/python3.7/dist-packages (from requests->webdriver-manager) (3.0.4)\n",
            "Requirement already satisfied: certifi>=2017.4.17 in /usr/local/lib/python3.7/dist-packages (from requests->webdriver-manager) (2022.6.15)\n",
            "Requirement already satisfied: idna<3,>=2.5 in /usr/local/lib/python3.7/dist-packages (from requests->webdriver-manager) (2.10)\n",
            "Collecting urllib3!=1.25.0,!=1.25.1,<1.26,>=1.21.1\n",
            "  Using cached urllib3-1.25.11-py2.py3-none-any.whl (127 kB)\n",
            "Installing collected packages: urllib3\n",
            "  Attempting uninstall: urllib3\n",
            "    Found existing installation: urllib3 1.26.12\n",
            "    Uninstalling urllib3-1.26.12:\n",
            "      Successfully uninstalled urllib3-1.26.12\n",
            "\u001b[31mERROR: pip's dependency resolver does not currently take into account all the packages that are installed. This behaviour is the source of the following dependency conflicts.\n",
            "selenium 4.5.0 requires urllib3[socks]~=1.26, but you have urllib3 1.25.11 which is incompatible.\u001b[0m\n",
            "Successfully installed urllib3-1.25.11\n"
          ]
        }
      ],
      "source": [
        "#!pip uninstall urllib3\n",
        "\n",
        "!pip install selenium\n",
        "\n",
        "!pip install webdriver-manager"
      ],
      "id": "TEW1RFR0Vi2e"
    },
    {
      "cell_type": "code",
      "execution_count": 4,
      "metadata": {
        "id": "e91ac3d1"
      },
      "outputs": [],
      "source": [
        "from selenium import webdriver\n",
        "from selenium.webdriver.chrome.service import Service\n",
        "from webdriver_manager.chrome import ChromeDriverManager\n",
        "from selenium.webdriver.support.ui import WebDriverWait\n",
        "from selenium.webdriver.common.by import By\n",
        "\n",
        "import time"
      ],
      "id": "e91ac3d1"
    },
    {
      "cell_type": "markdown",
      "source": [],
      "metadata": {
        "id": "XWfb1xNCozTT"
      },
      "id": "XWfb1xNCozTT"
    },
    {
      "cell_type": "code",
      "execution_count": 7,
      "metadata": {
        "id": "ce34ccdb"
      },
      "outputs": [],
      "source": [
        "options = webdriver.ChromeOptions()\n",
        "options.add_argument('headless')\n",
        "options.add_argument('window-size=1920x1080')\n"
      ],
      "id": "ce34ccdb"
    },
    {
      "cell_type": "code",
      "execution_count": 8,
      "metadata": {
        "colab": {
          "base_uri": "https://localhost:8080/",
          "height": 328
        },
        "id": "ef08e60b",
        "outputId": "2c947ae5-7f1b-4843-9b15-8f0d7581c2e3"
      },
      "outputs": [
        {
          "output_type": "error",
          "ename": "WebDriverException",
          "evalue": "ignored",
          "traceback": [
            "\u001b[0;31m---------------------------------------------------------------------------\u001b[0m",
            "\u001b[0;31mWebDriverException\u001b[0m                        Traceback (most recent call last)",
            "\u001b[0;32m<ipython-input-8-060109f0e942>\u001b[0m in \u001b[0;36m<module>\u001b[0;34m\u001b[0m\n\u001b[0;32m----> 1\u001b[0;31m \u001b[0mdriver\u001b[0m \u001b[0;34m=\u001b[0m \u001b[0mwebdriver\u001b[0m\u001b[0;34m.\u001b[0m\u001b[0mChrome\u001b[0m\u001b[0;34m(\u001b[0m\u001b[0mservice\u001b[0m\u001b[0;34m=\u001b[0m\u001b[0mService\u001b[0m\u001b[0;34m(\u001b[0m\u001b[0mChromeDriverManager\u001b[0m\u001b[0;34m(\u001b[0m\u001b[0;34m)\u001b[0m\u001b[0;34m.\u001b[0m\u001b[0minstall\u001b[0m\u001b[0;34m(\u001b[0m\u001b[0;34m)\u001b[0m\u001b[0;34m)\u001b[0m\u001b[0;34m)\u001b[0m\u001b[0;34m\u001b[0m\u001b[0;34m\u001b[0m\u001b[0m\n\u001b[0m",
            "\u001b[0;32m/usr/local/lib/python3.7/dist-packages/selenium/webdriver/chrome/webdriver.py\u001b[0m in \u001b[0;36m__init__\u001b[0;34m(self, executable_path, port, options, service_args, desired_capabilities, service_log_path, chrome_options, service, keep_alive)\u001b[0m\n\u001b[1;32m     70\u001b[0m                          \u001b[0mport\u001b[0m\u001b[0;34m,\u001b[0m \u001b[0moptions\u001b[0m\u001b[0;34m,\u001b[0m\u001b[0;34m\u001b[0m\u001b[0;34m\u001b[0m\u001b[0m\n\u001b[1;32m     71\u001b[0m                          \u001b[0mservice_args\u001b[0m\u001b[0;34m,\u001b[0m \u001b[0mdesired_capabilities\u001b[0m\u001b[0;34m,\u001b[0m\u001b[0;34m\u001b[0m\u001b[0;34m\u001b[0m\u001b[0m\n\u001b[0;32m---> 72\u001b[0;31m                          service_log_path, service, keep_alive)\n\u001b[0m",
            "\u001b[0;32m/usr/local/lib/python3.7/dist-packages/selenium/webdriver/chromium/webdriver.py\u001b[0m in \u001b[0;36m__init__\u001b[0;34m(self, browser_name, vendor_prefix, port, options, service_args, desired_capabilities, service_log_path, service, keep_alive)\u001b[0m\n\u001b[1;32m     87\u001b[0m \u001b[0;34m\u001b[0m\u001b[0m\n\u001b[1;32m     88\u001b[0m         \u001b[0mself\u001b[0m\u001b[0;34m.\u001b[0m\u001b[0mservice\u001b[0m \u001b[0;34m=\u001b[0m \u001b[0mservice\u001b[0m\u001b[0;34m\u001b[0m\u001b[0;34m\u001b[0m\u001b[0m\n\u001b[0;32m---> 89\u001b[0;31m         \u001b[0mself\u001b[0m\u001b[0;34m.\u001b[0m\u001b[0mservice\u001b[0m\u001b[0;34m.\u001b[0m\u001b[0mstart\u001b[0m\u001b[0;34m(\u001b[0m\u001b[0;34m)\u001b[0m\u001b[0;34m\u001b[0m\u001b[0;34m\u001b[0m\u001b[0m\n\u001b[0m\u001b[1;32m     90\u001b[0m \u001b[0;34m\u001b[0m\u001b[0m\n\u001b[1;32m     91\u001b[0m         \u001b[0;32mtry\u001b[0m\u001b[0;34m:\u001b[0m\u001b[0;34m\u001b[0m\u001b[0;34m\u001b[0m\u001b[0m\n",
            "\u001b[0;32m/usr/local/lib/python3.7/dist-packages/selenium/webdriver/common/service.py\u001b[0m in \u001b[0;36mstart\u001b[0;34m(self)\u001b[0m\n\u001b[1;32m     96\u001b[0m         \u001b[0mcount\u001b[0m \u001b[0;34m=\u001b[0m \u001b[0;36m0\u001b[0m\u001b[0;34m\u001b[0m\u001b[0;34m\u001b[0m\u001b[0m\n\u001b[1;32m     97\u001b[0m         \u001b[0;32mwhile\u001b[0m \u001b[0;32mTrue\u001b[0m\u001b[0;34m:\u001b[0m\u001b[0;34m\u001b[0m\u001b[0;34m\u001b[0m\u001b[0m\n\u001b[0;32m---> 98\u001b[0;31m             \u001b[0mself\u001b[0m\u001b[0;34m.\u001b[0m\u001b[0massert_process_still_running\u001b[0m\u001b[0;34m(\u001b[0m\u001b[0;34m)\u001b[0m\u001b[0;34m\u001b[0m\u001b[0;34m\u001b[0m\u001b[0m\n\u001b[0m\u001b[1;32m     99\u001b[0m             \u001b[0;32mif\u001b[0m \u001b[0mself\u001b[0m\u001b[0;34m.\u001b[0m\u001b[0mis_connectable\u001b[0m\u001b[0;34m(\u001b[0m\u001b[0;34m)\u001b[0m\u001b[0;34m:\u001b[0m\u001b[0;34m\u001b[0m\u001b[0;34m\u001b[0m\u001b[0m\n\u001b[1;32m    100\u001b[0m                 \u001b[0;32mbreak\u001b[0m\u001b[0;34m\u001b[0m\u001b[0;34m\u001b[0m\u001b[0m\n",
            "\u001b[0;32m/usr/local/lib/python3.7/dist-packages/selenium/webdriver/common/service.py\u001b[0m in \u001b[0;36massert_process_still_running\u001b[0;34m(self)\u001b[0m\n\u001b[1;32m    110\u001b[0m             raise WebDriverException(\n\u001b[1;32m    111\u001b[0m                 \u001b[0;34m'Service %s unexpectedly exited. Status code was: %s'\u001b[0m\u001b[0;34m\u001b[0m\u001b[0;34m\u001b[0m\u001b[0m\n\u001b[0;32m--> 112\u001b[0;31m                 \u001b[0;34m%\u001b[0m \u001b[0;34m(\u001b[0m\u001b[0mself\u001b[0m\u001b[0;34m.\u001b[0m\u001b[0mpath\u001b[0m\u001b[0;34m,\u001b[0m \u001b[0mreturn_code\u001b[0m\u001b[0;34m)\u001b[0m\u001b[0;34m\u001b[0m\u001b[0;34m\u001b[0m\u001b[0m\n\u001b[0m\u001b[1;32m    113\u001b[0m             )\n\u001b[1;32m    114\u001b[0m \u001b[0;34m\u001b[0m\u001b[0m\n",
            "\u001b[0;31mWebDriverException\u001b[0m: Message: Service /root/.wdm/drivers/chromedriver/linux64/106.0.5249/chromedriver unexpectedly exited. Status code was: -6\n"
          ]
        }
      ],
      "source": [
        "driver = webdriver.Chrome(service=Service(ChromeDriverManager().install()))"
      ],
      "id": "ef08e60b"
    },
    {
      "cell_type": "code",
      "source": [
        "#função retornar elemento\n",
        "\n",
        "def find(driver):\n",
        "    element = driver.find_element(By.TAG_NAME, 'content')\n",
        "    if element:\n",
        "        return element\n",
        "    else:\n",
        "        return False"
      ],
      "metadata": {
        "id": "QVtIJLftqKC_"
      },
      "id": "QVtIJLftqKC_",
      "execution_count": null,
      "outputs": []
    },
    {
      "cell_type": "code",
      "source": [
        "#passar busca e filtrar\n",
        "\n",
        "url_1 = 'https://ufrn.br/imprensa/noticias/filtros?text=esporte'\n",
        "driver.get(url_1)\n",
        "time.sleep(5)\n",
        "text_to_cloud = ''\n",
        "\n",
        "numPagC = driver.find_elements(By.XPATH, '//*[@id=\"noticias-paginacao\"]/li[5]/a')[0];\n",
        "numPag = int(numPagC.text) + 1\n",
        "print(numPag)"
      ],
      "metadata": {
        "id": "3nryalB_qZZY"
      },
      "id": "3nryalB_qZZY",
      "execution_count": null,
      "outputs": []
    },
    {
      "cell_type": "code",
      "execution_count": null,
      "metadata": {
        "id": "f12e10fb"
      },
      "outputs": [],
      "source": [
        "for j in range(1,numPag):\n",
        "    print('Pag atual: ', j) \n",
        "    \n",
        "    #obtém lista de notícias (inclui 2 itens que não são notícias)\n",
        "\n",
        "    title_news = driver.find_elements(By.CLASS_NAME, 'blue-link');\n",
        "    n_news = len(title_news)\n",
        "    print('n_news: ', n_news)\n",
        "    \n",
        "    #guarda todos os links de notícia da página atual\n",
        "\n",
        "    title_news_hrefs = []\n",
        "    for i in range(1, n_news):\n",
        "        title_news_hrefs.append(title_news[i].get_attribute('href'))\n",
        "\n",
        "    \n",
        "    for i in range(1, len(title_news_hrefs)):\n",
        "        link = title_news_hrefs[i]     \n",
        "        if 'imprensa' in link:\n",
        "            print(link)\n",
        "            driver.get(link) \n",
        "            time.sleep(5)\n",
        "            news_text = WebDriverWait(driver, 100).until(find)\n",
        "            text_to_cloud += news_text.text\n",
        "            driver.back()\n",
        "            time.sleep(2)\n",
        "        if i == len(title_news_hrefs) - 1:\n",
        "            print('proxima pagina')\n",
        "            try:\n",
        "                driver.find_element(By.XPATH, '//*[@id=\"noticias-paginacao\"]/li[6]/a').click()\n",
        "                time.sleep(5)\n",
        "                mudou = True\n",
        "            except ex.NoSuchElementException:\n",
        "                driver.refresh()\n",
        "                                      \n",
        "print(text_to_cloud)  "
      ],
      "id": "f12e10fb"
    },
    {
      "cell_type": "code",
      "execution_count": null,
      "metadata": {
        "id": "4d534f86"
      },
      "outputs": [],
      "source": [
        "text_to_cloud"
      ],
      "id": "4d534f86"
    },
    {
      "cell_type": "code",
      "source": [
        "!pip install wordcloud"
      ],
      "metadata": {
        "id": "7YAty18MrEQ0"
      },
      "id": "7YAty18MrEQ0",
      "execution_count": null,
      "outputs": []
    },
    {
      "cell_type": "code",
      "source": [
        "from wordcloud import WordCloud, STOPWORDS\n",
        "\n",
        "STOPWORDS = ['ver','principal','essa','vez','nas','mas',\n",
        "             'qual','principal','ele','ter','doença','pois','este',\n",
        "             'vez','ver principal','artigo principal','já',\n",
        "             'aos','pode','outro','artigo','desse',\n",
        "             'alguns','meio','entre','das','podem','esse',\n",
        "             'seu','também','são','quando','de', 'que','em',\n",
        "             'os','as','da','como','dos','ou','se','um','uma',\n",
        "             'para','na','ao','mais','por','não','ainda','muito','sua',\n",
        "             'a', 'é', 'o', 'e', 'no', 'do']"
      ],
      "metadata": {
        "id": "spG3N4AKrMQW"
      },
      "id": "spG3N4AKrMQW",
      "execution_count": null,
      "outputs": []
    },
    {
      "cell_type": "code",
      "source": [
        "import matplotlib.pyplot as plt\n",
        "%matplotlib inline\n",
        "import numpy as np\n",
        "from PIL import Image\n",
        "dataset = open(\"sampleWords.txt\", \"r\").read()\n",
        "def create_word_cloud(string):\n",
        "   maskArray = np.array(Image.open(\"/media/cloud.jpg\")) #uso do numpy\n",
        "   cloud = WordCloud(background_color = \"white\", max_font_size=50, max_words = 200, mask = maskArray, stopwords = set(STOPWORDS))\n",
        "   cloud.generate(string)\n",
        "   cloud.to_file(\"/media/wordCloud.png\")\n",
        "   plt.figure()\n",
        "   plt.imshow(cloud, interpolation='bilinear')\n",
        "   plt.axis('off')\n",
        "dataset = dataset.lower()\n",
        "create_word_cloud(text_to_cloud)\n"
      ],
      "metadata": {
        "id": "mC7RW22arVTQ"
      },
      "id": "mC7RW22arVTQ",
      "execution_count": null,
      "outputs": []
    }
  ],
  "metadata": {
    "colab": {
      "provenance": [],
      "collapsed_sections": []
    },
    "kernelspec": {
      "display_name": "Python 3 (ipykernel)",
      "language": "python",
      "name": "python3"
    },
    "language_info": {
      "codemirror_mode": {
        "name": "ipython",
        "version": 3
      },
      "file_extension": ".py",
      "mimetype": "text/x-python",
      "name": "python",
      "nbconvert_exporter": "python",
      "pygments_lexer": "ipython3",
      "version": "3.9.12"
    }
  },
  "nbformat": 4,
  "nbformat_minor": 5
}